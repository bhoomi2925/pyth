{
 "cells": [
  {
   "cell_type": "code",
   "execution_count": 2,
   "metadata": {},
   "outputs": [
    {
     "name": "stdout",
     "output_type": "stream",
     "text": [
      "5678 <class 'int'>\n"
     ]
    }
   ],
   "source": [
    "#int \n",
    "a = 5678\n",
    "print(a ,type(a))"
   ]
  },
  {
   "cell_type": "code",
   "execution_count": 3,
   "metadata": {},
   "outputs": [
    {
     "name": "stdout",
     "output_type": "stream",
     "text": [
      "56.45 <class 'float'>\n"
     ]
    }
   ],
   "source": [
    "#float\n",
    "a = 56.45\n",
    "print(a ,type(a))"
   ]
  },
  {
   "cell_type": "code",
   "execution_count": 4,
   "metadata": {},
   "outputs": [
    {
     "name": "stdout",
     "output_type": "stream",
     "text": [
      "(56+8j) <class 'complex'>\n"
     ]
    }
   ],
   "source": [
    "#complex\n",
    "a = 56 + 8j\n",
    "print(a ,type(a))"
   ]
  },
  {
   "cell_type": "code",
   "execution_count": 5,
   "metadata": {},
   "outputs": [
    {
     "name": "stdout",
     "output_type": "stream",
     "text": [
      "Hello Python <class 'str'>\n"
     ]
    }
   ],
   "source": [
    "# Str, double, triple\n",
    "a = 'Hello Python'\n",
    "print(a,type(a))"
   ]
  },
  {
   "cell_type": "code",
   "execution_count": 6,
   "metadata": {},
   "outputs": [
    {
     "name": "stdout",
     "output_type": "stream",
     "text": [
      "Twinkle twinkle little star\n",
      "How I wonder what you are\n",
      "Up above the world so high\n",
      "Like a diamond in the sky\n",
      "Twinkle twinkle little star\n",
      "How I wonder what you are\n",
      "\n",
      "\n",
      "\n",
      "Twinkle twinkle little star\n",
      "How I wonder what you are\n",
      "Up above the world so high\n",
      "Like a diamond in the sky\n",
      "Twinkle twinkle little star\n",
      "How I wonder what you are\n"
     ]
    }
   ],
   "source": [
    "poem = '''Twinkle twinkle little star\n",
    "How I wonder what you are\n",
    "Up above the world so high\n",
    "Like a diamond in the sky\n",
    "Twinkle twinkle little star\n",
    "How I wonder what you are\n",
    "\n",
    "\n",
    "\n",
    "Twinkle twinkle little star\n",
    "How I wonder what you are\n",
    "Up above the world so high\n",
    "Like a diamond in the sky\n",
    "Twinkle twinkle little star\n",
    "How I wonder what you are'''\n",
    "\n",
    "\n",
    "print(poem)"
   ]
  },
  {
   "cell_type": "code",
   "execution_count": 7,
   "metadata": {},
   "outputs": [
    {
     "name": "stdout",
     "output_type": "stream",
     "text": [
      "(2, 3434, 5, 5467) <class 'tuple'>\n"
     ]
    }
   ],
   "source": [
    "# tuple\n",
    "a = (2,3434,5,5467)\n",
    "print(a,type(a))"
   ]
  },
  {
   "cell_type": "code",
   "execution_count": 8,
   "metadata": {},
   "outputs": [
    {
     "name": "stdout",
     "output_type": "stream",
     "text": [
      "(2,) <class 'tuple'>\n"
     ]
    }
   ],
   "source": [
    "# tuple\n",
    "a = (2,)\n",
    "print(a,type(a))"
   ]
  },
  {
   "cell_type": "code",
   "execution_count": 9,
   "metadata": {},
   "outputs": [
    {
     "name": "stdout",
     "output_type": "stream",
     "text": [
      "[2, 3434, 5, 5467] <class 'list'>\n"
     ]
    }
   ],
   "source": [
    "# list\n",
    "a = [2,3434,5,5467]\n",
    "print(a,type(a))"
   ]
  },
  {
   "cell_type": "code",
   "execution_count": 10,
   "metadata": {},
   "outputs": [
    {
     "name": "stdout",
     "output_type": "stream",
     "text": [
      "[2, 3434, 2000, 5467]\n"
     ]
    }
   ],
   "source": [
    "a[2]= 2000\n",
    "print(a)"
   ]
  },
  {
   "cell_type": "code",
   "execution_count": 11,
   "metadata": {},
   "outputs": [
    {
     "name": "stdout",
     "output_type": "stream",
     "text": [
      "346\n"
     ]
    }
   ],
   "source": [
    "a = [3,544,5,346,567]\n",
    "\n",
    "print(a[3])"
   ]
  },
  {
   "cell_type": "code",
   "execution_count": 16,
   "metadata": {},
   "outputs": [
    {
     "ename": "TypeError",
     "evalue": "'tuple' object does not support item assignment",
     "output_type": "error",
     "traceback": [
      "\u001b[31m---------------------------------------------------------------------------\u001b[39m",
      "\u001b[31mTypeError\u001b[39m                                 Traceback (most recent call last)",
      "\u001b[36mCell\u001b[39m\u001b[36m \u001b[39m\u001b[32mIn[16]\u001b[39m\u001b[32m, line 1\u001b[39m\n\u001b[32m----> \u001b[39m\u001b[32m1\u001b[39m \u001b[43ma\u001b[49m\u001b[43m \u001b[49m\u001b[43m[\u001b[49m\u001b[32;43m3\u001b[39;49m\u001b[43m]\u001b[49m=\u001b[32m900\u001b[39m\n\u001b[32m      2\u001b[39m a = \u001b[38;5;28mlist\u001b[39m(a)\n\u001b[32m      3\u001b[39m a[\u001b[32m3\u001b[39m] = \u001b[32m900\u001b[39m\n",
      "\u001b[31mTypeError\u001b[39m: 'tuple' object does not support item assignment"
     ]
    }
   ],
   "source": [
    "a [3]=900\n",
    "a = list(a)\n",
    "a[3] = 900\n",
    "a = tuple(a)\n",
    "print(a)"
   ]
  }
 ],
 "metadata": {
  "kernelspec": {
   "display_name": ".venv",
   "language": "python",
   "name": "python3"
  },
  "language_info": {
   "codemirror_mode": {
    "name": "ipython",
    "version": 3
   },
   "file_extension": ".py",
   "mimetype": "text/x-python",
   "name": "python",
   "nbconvert_exporter": "python",
   "pygments_lexer": "ipython3",
   "version": "3.13.5"
  }
 },
 "nbformat": 4,
 "nbformat_minor": 2
}
